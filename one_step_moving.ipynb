{
 "cells": [
  {
   "cell_type": "code",
   "execution_count": 5,
   "metadata": {},
   "outputs": [],
   "source": [
    "import numpy as np\n",
    "import matplotlib.pyplot as plt"
   ]
  },
  {
   "cell_type": "code",
   "execution_count": 131,
   "metadata": {},
   "outputs": [],
   "source": [
    "k = np.ones(100)\n",
    "x_nor = np.arange(len(k))"
   ]
  },
  {
   "cell_type": "markdown",
   "metadata": {},
   "source": [
    "# same velocity _ infinite wall"
   ]
  },
  {
   "cell_type": "code",
   "execution_count": 43,
   "metadata": {},
   "outputs": [],
   "source": [
    "k = np.arange(100)"
   ]
  },
  {
   "cell_type": "code",
   "execution_count": 44,
   "metadata": {},
   "outputs": [
    {
     "data": {
      "text/plain": [
       "(100, 99)"
      ]
     },
     "execution_count": 44,
     "metadata": {},
     "output_type": "execute_result"
    }
   ],
   "source": [
    "len(k),k[-1]"
   ]
  },
  {
   "cell_type": "code",
   "execution_count": null,
   "metadata": {},
   "outputs": [],
   "source": []
  },
  {
   "cell_type": "code",
   "execution_count": 161,
   "metadata": {},
   "outputs": [],
   "source": [
    "prop = 0.5\n",
    "\n",
    "def go_one_step(k):\n",
    "    to_right = k[0:-1] * prop\n",
    "    to_right[0] += k[0] *prop\n",
    "    to_left = k[1:] * prop\n",
    "    to_left[-1] += k[-1] * prop\n",
    "\n",
    "    to_right_ = np.hstack((to_right,[0]))\n",
    "    to_right_pl = np.hstack( ( [0], to_right ) )\n",
    "\n",
    "    to_left_ = np.hstack(([0],to_left))\n",
    "    to_left_pl = np.hstack((to_left,[0]))\n",
    "    k = k - to_right_ - to_left_ + to_right_pl + to_left_pl\n",
    "    return k\n",
    "\n",
    "def do_many(k,num):\n",
    "    for i in range(num):\n",
    "        k = go_one_step(k)\n",
    "        \n",
    "    return k"
   ]
  },
  {
   "cell_type": "code",
   "execution_count": 172,
   "metadata": {},
   "outputs": [],
   "source": [
    "sk = do_many(k,10000)"
   ]
  },
  {
   "cell_type": "code",
   "execution_count": 173,
   "metadata": {},
   "outputs": [
    {
     "data": {
      "text/plain": [
       "<BarContainer object of 100 artists>"
      ]
     },
     "execution_count": 173,
     "metadata": {},
     "output_type": "execute_result"
    },
    {
     "data": {
      "image/png": "[encoded data removed]",
      "text/plain": [
       "<Figure size 432x288 with 1 Axes>"
      ]
     },
     "metadata": {
      "needs_background": "light"
     },
     "output_type": "display_data"
    }
   ],
   "source": [
    "plt.bar(x_nor,k)"
   ]
  },
  {
   "cell_type": "code",
   "execution_count": 174,
   "metadata": {
    "scrolled": true
   },
   "outputs": [
    {
     "data": {
      "text/plain": [
       "<BarContainer object of 100 artists>"
      ]
     },
     "execution_count": 174,
     "metadata": {},
     "output_type": "execute_result"
    },
    {
     "data": {
      "image/png": "[encoded data removed]",
      "text/plain": [
       "<Figure size 432x288 with 1 Axes>"
      ]
     },
     "metadata": {
      "needs_background": "light"
     },
     "output_type": "display_data"
    }
   ],
   "source": [
    "plt.bar(x_nor, sk)"
   ]
  },
  {
   "cell_type": "code",
   "execution_count": 175,
   "metadata": {},
   "outputs": [
    {
     "data": {
      "text/plain": [
       "array([0.50511617, 1.00996975, 1.01023207, 1.00997028, 1.01023128,\n",
       "       1.00997133, 1.01022996, 1.00997291, 1.01022813, 1.009975  ,\n",
       "       1.01022578, 1.0099776 , 1.01022293, 1.0099807 , 1.01021959,\n",
       "       1.00998428, 1.01021577, 1.00998833, 1.01021149, 1.00999284,\n",
       "       1.01020676, 1.00999778, 1.01020161, 1.01000314, 1.01019606,\n",
       "       1.01000889, 1.01019012, 1.01001501, 1.01018382, 1.01002148,\n",
       "       1.01017719, 1.01002827, 1.01017025, 1.01003535, 1.01016303,\n",
       "       1.01004269, 1.01015557, 1.01005027, 1.01014788, 1.01005806,\n",
       "       1.01014   , 1.01006601, 1.01013197, 1.01007411, 1.01012381,\n",
       "       1.01008232, 1.01011557, 1.0100906 , 1.01010726, 1.01009893,\n",
       "       1.01009893, 1.01010726, 1.0100906 , 1.01011557, 1.01008232,\n",
       "       1.01012381, 1.01007411, 1.01013197, 1.01006601, 1.01014   ,\n",
       "       1.01005806, 1.01014788, 1.01005027, 1.01015557, 1.01004269,\n",
       "       1.01016303, 1.01003535, 1.01017025, 1.01002827, 1.01017719,\n",
       "       1.01002148, 1.01018382, 1.01001501, 1.01019012, 1.01000889,\n",
       "       1.01019606, 1.01000314, 1.01020161, 1.00999778, 1.01020676,\n",
       "       1.00999284, 1.01021149, 1.00998833, 1.01021577, 1.00998428,\n",
       "       1.01021959, 1.0099807 , 1.01022293, 1.0099776 , 1.01022578,\n",
       "       1.009975  , 1.01022813, 1.00997291, 1.01022996, 1.00997133,\n",
       "       1.01023128, 1.00997028, 1.01023207, 1.00996975, 0.50511617])"
      ]
     },
     "execution_count": 175,
     "metadata": {},
     "output_type": "execute_result"
    }
   ],
   "source": [
    "sk"
   ]
  },
  {
   "cell_type": "code",
   "execution_count": 171,
   "metadata": {},
   "outputs": [
    {
     "data": {
      "text/plain": [
       "array([0.5, 1.5, 1. , 1. , 1. , 1. , 1. , 1. , 1. , 1. , 1. , 1. , 1. ,\n",
       "       1. , 1. , 1. , 1. , 1. , 1. , 1. , 1. , 1. , 1. , 1. , 1. , 1. ,\n",
       "       1. , 1. , 1. , 1. , 1. , 1. , 1. , 1. , 1. , 1. , 1. , 1. , 1. ,\n",
       "       1. , 1. , 1. , 1. , 1. , 1. , 1. , 1. , 1. , 1. , 1. , 1. , 1. ,\n",
       "       1. , 1. , 1. , 1. , 1. , 1. , 1. , 1. , 1. , 1. , 1. , 1. , 1. ,\n",
       "       1. , 1. , 1. , 1. , 1. , 1. , 1. , 1. , 1. , 1. , 1. , 1. , 1. ,\n",
       "       1. , 1. , 1. , 1. , 1. , 1. , 1. , 1. , 1. , 1. , 1. , 1. , 1. ,\n",
       "       1. , 1. , 1. , 1. , 1. , 1. , 1. , 1.5, 0.5])"
      ]
     },
     "execution_count": 171,
     "metadata": {},
     "output_type": "execute_result"
    }
   ],
   "source": [
    "ssk = go_one_step(k)\n",
    "ssk"
   ]
  },
  {
   "cell_type": "code",
   "execution_count": null,
   "metadata": {},
   "outputs": [],
   "source": []
  },
  {
   "cell_type": "code",
   "execution_count": null,
   "metadata": {},
   "outputs": [],
   "source": []
  }
 ],
 "metadata": {
  "kernelspec": {
   "display_name": "Python 3",
   "language": "python",
   "name": "python3"
  },
  "language_info": {
   "codemirror_mode": {
    "name": "ipython",
    "version": 3
   },
   "file_extension": ".py",
   "mimetype": "text/x-python",
   "name": "python",
   "nbconvert_exporter": "python",
   "pygments_lexer": "ipython3",
   "version": "3.7.4"
  }
 },
 "nbformat": 4,
 "nbformat_minor": 2
}
