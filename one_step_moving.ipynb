{
 "cells": [
  {
   "cell_type": "code",
   "execution_count": 83,
   "metadata": {},
   "outputs": [],
   "source": [
    "import numpy as np\n",
    "import matplotlib.pyplot as plt"
   ]
  },
  {
   "cell_type": "code",
   "execution_count": 84,
   "metadata": {},
   "outputs": [],
   "source": [
    "k = np.ones(100)\n",
    "x_nor = np.arange(len(k))"
   ]
  },
  {
   "cell_type": "markdown",
   "metadata": {},
   "source": [
    "# same velocity _ infinite wall"
   ]
  },
  {
   "cell_type": "code",
   "execution_count": 123,
   "metadata": {},
   "outputs": [],
   "source": [
    "class one_step_exchange ():\n",
    "\n",
    "    \"\"\" \n",
    "    mini class that exchange self density with adjacent position. \n",
    "    prop = percentage of exchange. \n",
    "    go_one_step => calculate one exchange process\n",
    "\n",
    "    \"\"\"\n",
    "    \n",
    "    def __init__(self):\n",
    "        self.prop = 0.5\n",
    "        self.org_shape = np.ones((1,100)) * 50\n",
    "        self.saved_mat = 0\n",
    "        \n",
    "    def go_one_step(self,k):\n",
    "        \"\"\"\n",
    "        at this time it exchanges density with right adjacent position. \n",
    "        at the edge, density perfectrly reflected by wall. \n",
    "        \"\"\"\n",
    "        to_right = k[0:-1] * prop\n",
    "        to_right[0] += k[0] *prop   # reflecting effect\n",
    "        to_left = k[1:] * prop\n",
    "        to_left[-1] += k[-1] * prop # reflecting effect\n",
    "\n",
    "        # for total density conservation, + right side and - same value at present position! \n",
    "        to_right_ = np.hstack((to_right,[0]))\n",
    "        to_right_pl = np.hstack( ( [0], to_right ) )\n",
    "\n",
    "        to_left_ = np.hstack(([0],to_left))\n",
    "        to_left_pl = np.hstack((to_left,[0]))\n",
    "        k = k - to_right_ - to_left_ + to_right_pl + to_left_pl\n",
    "        return k\n",
    "    \n",
    "    def cal_n_time(self, n):\n",
    "        self.saved_mat = self.org_shape.copy()\n",
    "        for i in range (n):\n",
    "            self.saved_mat = np.vstack((self.saved_mat, go_one_step(self.saved_mat[-1])))\n",
    "    \n",
    "    def set_mat (self, k):\n",
    "        # must make vector in 2 dimension.\n",
    "        self.org_shape = k\n",
    "    \n",
    "    def get_result (self):\n",
    "        return self.saved_mat\n",
    "    "
   ]
  },
  {
   "cell_type": "code",
   "execution_count": 124,
   "metadata": {},
   "outputs": [],
   "source": [
    "def draw_check(k_n):\n",
    "    plt.bar(x_nor, k_n)\n",
    "    plt.show()"
   ]
  },
  {
   "cell_type": "code",
   "execution_count": null,
   "metadata": {},
   "outputs": [],
   "source": []
  },
  {
   "cell_type": "code",
   "execution_count": null,
   "metadata": {},
   "outputs": [],
   "source": []
  },
  {
   "cell_type": "code",
   "execution_count": null,
   "metadata": {},
   "outputs": [],
   "source": []
  },
  {
   "cell_type": "code",
   "execution_count": 49,
   "metadata": {},
   "outputs": [],
   "source": [
    "\n"
   ]
  },
  {
   "cell_type": "code",
   "execution_count": 72,
   "metadata": {},
   "outputs": [],
   "source": [
    "k = np.arange(100)"
   ]
  },
  {
   "cell_type": "code",
   "execution_count": 73,
   "metadata": {},
   "outputs": [],
   "source": [
    "sk = do_many(k,100000)"
   ]
  },
  {
   "cell_type": "code",
   "execution_count": 77,
   "metadata": {
    "scrolled": true
   },
   "outputs": [
    {
     "data": {
      "image/png": "[encoded data removed]",
      "text/plain": [
       "<Figure size 432x288 with 1 Axes>"
      ]
     },
     "metadata": {
      "needs_background": "light"
     },
     "output_type": "display_data"
    }
   ],
   "source": [
    "draw_check(sk[100000])"
   ]
  },
  {
   "cell_type": "code",
   "execution_count": 67,
   "metadata": {},
   "outputs": [],
   "source": [
    "aa = np.ones_like(k) * 50\n",
    "aask = do_many(aa,10000)"
   ]
  },
  {
   "cell_type": "code",
   "execution_count": 81,
   "metadata": {},
   "outputs": [
    {
     "data": {
      "image/png": "[encoded data removed]",
      "text/plain": [
       "<Figure size 432x288 with 1 Axes>"
      ]
     },
     "metadata": {
      "needs_background": "light"
     },
     "output_type": "display_data"
    }
   ],
   "source": [
    "draw_check(aask[10])"
   ]
  },
  {
   "cell_type": "markdown",
   "metadata": {},
   "source": [
    " # some dif between odd and even number is why happen? \n",
    " # functional tendency of nth set\n",
    " # functional tendency of each position`s value "
   ]
  },
  {
   "cell_type": "code",
   "execution_count": null,
   "metadata": {},
   "outputs": [],
   "source": []
  },
  {
   "cell_type": "code",
   "execution_count": 36,
   "metadata": {},
   "outputs": [],
   "source": []
  },
  {
   "cell_type": "code",
   "execution_count": null,
   "metadata": {},
   "outputs": [],
   "source": []
  },
  {
   "cell_type": "code",
   "execution_count": 20,
   "metadata": {},
   "outputs": [
    {
     "data": {
      "text/plain": [
       "<BarContainer object of 100 artists>"
      ]
     },
     "execution_count": 20,
     "metadata": {},
     "output_type": "execute_result"
    },
    {
     "data": {
      "image/png": "[encoded data removed]",
      "text/plain": [
       "<Figure size 432x288 with 1 Axes>"
      ]
     },
     "metadata": {
      "needs_background": "light"
     },
     "output_type": "display_data"
    }
   ],
   "source": [
    "\n"
   ]
  },
  {
   "cell_type": "code",
   "execution_count": 21,
   "metadata": {
    "scrolled": true
   },
   "outputs": [
    {
     "data": {
      "text/plain": [
       "<BarContainer object of 100 artists>"
      ]
     },
     "execution_count": 21,
     "metadata": {},
     "output_type": "execute_result"
    },
    {
     "data": {
      "image/png": "[encoded data removed]",
      "text/plain": [
       "<Figure size 432x288 with 1 Axes>"
      ]
     },
     "metadata": {
      "needs_background": "light"
     },
     "output_type": "display_data"
    }
   ],
   "source": [
    "plt.bar(x_nor, sk)"
   ]
  },
  {
   "cell_type": "code",
   "execution_count": 10,
   "metadata": {},
   "outputs": [
    {
     "data": {
      "text/plain": [
       "array([24.6170492 , 50.23133588, 49.23462359, 50.23243803, 49.236197  ,\n",
       "       50.23463789, 49.23881233, 50.23792662, 49.24245902, 50.24229095,\n",
       "       49.24712241, 50.24771333, 49.25278371, 50.25417191, 49.25942013,\n",
       "       50.26164069, 49.26700494, 50.2700896 , 49.2755076 , 50.27948461,\n",
       "       49.28489387, 50.2897879 , 49.29512597, 50.30095797, 49.30616268,\n",
       "       50.31294985, 49.31795958, 50.32571525, 49.33046915, 50.33920277,\n",
       "       49.34364102, 50.35335811, 49.35742216, 50.36812425, 49.37175707,\n",
       "       50.38344175, 49.38658804, 50.39924892, 49.40185534, 50.41548212,\n",
       "       49.41749749, 50.43207598, 49.43345152, 50.44896368, 49.44965318,\n",
       "       50.46607723, 49.46603723, 50.4833477 , 49.4825377 , 50.50070557,\n",
       "       49.49908815, 50.51808093, 49.51562193, 50.53540382, 49.53207248,\n",
       "       50.55260449, 49.54837354, 50.56961368, 49.56445948, 50.58636289,\n",
       "       49.58026553, 50.60278469, 49.59572804, 50.61881294, 49.61078475,\n",
       "       50.63438312, 49.62537504, 50.64943252, 49.63944015, 50.66390054,\n",
       "       49.65292344, 50.67772893, 49.66577063, 50.69086201, 49.67792998,\n",
       "       50.70324688, 49.68935254, 50.7148337 , 49.6999923 , 50.72557578,\n",
       "       49.70980643, 50.73542989, 49.7187554 , 50.74435635, 49.72680319,\n",
       "       50.7523192 , 49.73391738, 50.75928639, 49.74006934, 50.76522986,\n",
       "       49.74523428, 50.77012569, 49.74939141, 50.77395414, 49.752524  ,\n",
       "       50.77669982, 49.75461943, 50.77835166, 49.75566925, 25.38945151])"
      ]
     },
     "execution_count": 10,
     "metadata": {},
     "output_type": "execute_result"
    }
   ],
   "source": [
    "sk"
   ]
  },
  {
   "cell_type": "code",
   "execution_count": 11,
   "metadata": {},
   "outputs": [
    {
     "data": {
      "text/plain": [
       "array([  0.5,   1. ,   2. ,   3. ,   4. ,   5. ,   6. ,   7. ,   8. ,\n",
       "         9. ,  10. ,  11. ,  12. ,  13. ,  14. ,  15. ,  16. ,  17. ,\n",
       "        18. ,  19. ,  20. ,  21. ,  22. ,  23. ,  24. ,  25. ,  26. ,\n",
       "        27. ,  28. ,  29. ,  30. ,  31. ,  32. ,  33. ,  34. ,  35. ,\n",
       "        36. ,  37. ,  38. ,  39. ,  40. ,  41. ,  42. ,  43. ,  44. ,\n",
       "        45. ,  46. ,  47. ,  48. ,  49. ,  50. ,  51. ,  52. ,  53. ,\n",
       "        54. ,  55. ,  56. ,  57. ,  58. ,  59. ,  60. ,  61. ,  62. ,\n",
       "        63. ,  64. ,  65. ,  66. ,  67. ,  68. ,  69. ,  70. ,  71. ,\n",
       "        72. ,  73. ,  74. ,  75. ,  76. ,  77. ,  78. ,  79. ,  80. ,\n",
       "        81. ,  82. ,  83. ,  84. ,  85. ,  86. ,  87. ,  88. ,  89. ,\n",
       "        90. ,  91. ,  92. ,  93. ,  94. ,  95. ,  96. ,  97. , 147.5,\n",
       "        49. ])"
      ]
     },
     "execution_count": 11,
     "metadata": {},
     "output_type": "execute_result"
    }
   ],
   "source": [
    "ssk = go_one_step(k)\n",
    "ssk"
   ]
  },
  {
   "cell_type": "code",
   "execution_count": null,
   "metadata": {},
   "outputs": [],
   "source": []
  },
  {
   "cell_type": "code",
   "execution_count": null,
   "metadata": {},
   "outputs": [],
   "source": []
  }
 ],
 "metadata": {
  "kernelspec": {
   "display_name": "Python 3",
   "language": "python",
   "name": "python3"
  },
  "language_info": {
   "codemirror_mode": {
    "name": "ipython",
    "version": 3
   },
   "file_extension": ".py",
   "mimetype": "text/x-python",
   "name": "python",
   "nbconvert_exporter": "python",
   "pygments_lexer": "ipython3",
   "version": "3.7.6"
  }
 },
 "nbformat": 4,
 "nbformat_minor": 2
}
